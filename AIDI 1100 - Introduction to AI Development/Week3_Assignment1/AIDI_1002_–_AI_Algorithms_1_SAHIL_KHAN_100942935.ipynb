{
  "nbformat": 4,
  "nbformat_minor": 0,
  "metadata": {
    "colab": {
      "provenance": []
    },
    "kernelspec": {
      "name": "python3",
      "display_name": "Python 3"
    },
    "language_info": {
      "name": "python"
    }
  },
  "cells": [
    {
      "cell_type": "code",
      "execution_count": 1,
      "metadata": {
        "id": "3Ga3lABiROqm"
      },
      "outputs": [],
      "source": [
        "import numpy as np\n",
        "import sympy as sp"
      ]
    },
    {
      "cell_type": "code",
      "source": [
        "def polynomial(x, coeffs):\n",
        "    return coeffs[0]*x**2 + coeffs[1]*x + coeffs[2]"
      ],
      "metadata": {
        "id": "fBELznKnUl40"
      },
      "execution_count": 2,
      "outputs": []
    },
    {
      "cell_type": "code",
      "source": [
        "def polynomialDerivative(x, coeffs):\n",
        "    return 2*coeffs[0]*x + coeffs[1]"
      ],
      "metadata": {
        "id": "zY09XV7YUmBK"
      },
      "execution_count": 3,
      "outputs": []
    },
    {
      "cell_type": "code",
      "source": [
        "def actualOptimalValue(coeffs):\n",
        "    x = sp.symbols('x')\n",
        "    expp = coeffs[0] * x**2 + coeffs[1] * x + coeffs[2]\n",
        "\n",
        "    derivative = sp.diff(expp, x)\n",
        "\n",
        "    optimal_value = sp.solve(derivative, x)\n",
        "\n",
        "    return optimal_value"
      ],
      "metadata": {
        "id": "zfjKXF7Vd6l1"
      },
      "execution_count": 4,
      "outputs": []
    },
    {
      "cell_type": "code",
      "source": [
        "def my_gradient_descent(polynomial, derivative, starting_point, learning_rate, num_iterations, coeffs):\n",
        "    x = starting_point\n",
        "    for i in range(num_iterations):\n",
        "        gradient = derivative(x, coeffs)\n",
        "        x -= learning_rate * gradient\n",
        "    return x"
      ],
      "metadata": {
        "id": "ZZolRM_IUmMd"
      },
      "execution_count": 5,
      "outputs": []
    },
    {
      "cell_type": "code",
      "source": [
        "starting_point = 0\n",
        "learning_rate = 0.1\n",
        "\n",
        "\n",
        "num_iterations = int(input(\"Enter number of Iterations user want to perform:\"))\n",
        "\n",
        "inputList = input(\"Enter coefficients values separated by spaces: \").split()\n",
        "coeffs = [int(a) for a in inputList]\n",
        "\n",
        "actual_optimal_value = actualOptimalValue(coeffs)[0]\n",
        "\n"
      ],
      "metadata": {
        "colab": {
          "base_uri": "https://localhost:8080/"
        },
        "id": "ReEfB7dORdqk",
        "outputId": "d1ca48cc-85b6-4223-c56d-4107829e11c3"
      },
      "execution_count": 6,
      "outputs": [
        {
          "name": "stdout",
          "output_type": "stream",
          "text": [
            "Enter number of Iterations user want to perform:100\n",
            "Enter coefficients values separated by spaces: 1 -3 2\n"
          ]
        }
      ]
    },
    {
      "cell_type": "code",
      "source": [
        "predicted_optimal_value = my_gradient_descent(polynomial, polynomialDerivative, starting_point, learning_rate, num_iterations, coeffs)\n",
        "\n",
        "cost = np.abs(predicted_optimal_value - actual_optimal_value)"
      ],
      "metadata": {
        "id": "DZ_amUUpWIFi"
      },
      "execution_count": 7,
      "outputs": []
    },
    {
      "cell_type": "code",
      "source": [
        "print(\"Actual Optimal Value:\", actual_optimal_value)\n",
        "print(\"Predicted Optimal Value:\", predicted_optimal_value)\n",
        "print(\"Cost:\", cost)"
      ],
      "metadata": {
        "colab": {
          "base_uri": "https://localhost:8080/"
        },
        "id": "mL90tKoBWKwU",
        "outputId": "ad80c661-554e-4585-d894-68d6d019d288"
      },
      "execution_count": 8,
      "outputs": [
        {
          "output_type": "stream",
          "name": "stdout",
          "text": [
            "Actual Optimal Value: 3/2\n",
            "Predicted Optimal Value: 1.4999999996944446\n",
            "Cost: 3.05555358792731e-10\n"
          ]
        }
      ]
    }
  ]
}